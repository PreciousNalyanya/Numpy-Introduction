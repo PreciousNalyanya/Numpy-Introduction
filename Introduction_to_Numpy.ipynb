{
  "nbformat": 4,
  "nbformat_minor": 0,
  "metadata": {
    "colab": {
      "provenance": [],
      "authorship_tag": "ABX9TyOZj/Qzg0uYScfVs+1+AWIG",
      "include_colab_link": true
    },
    "kernelspec": {
      "name": "python3",
      "display_name": "Python 3"
    },
    "language_info": {
      "name": "python"
    }
  },
  "cells": [
    {
      "cell_type": "markdown",
      "metadata": {
        "id": "view-in-github",
        "colab_type": "text"
      },
      "source": [
        "<a href=\"https://colab.research.google.com/github/PreciousNalyanya/Numpy-Introduction/blob/main/Introduction_to_Numpy.ipynb\" target=\"_parent\"><img src=\"https://colab.research.google.com/assets/colab-badge.svg\" alt=\"Open In Colab\"/></a>"
      ]
    },
    {
      "cell_type": "code",
      "execution_count": null,
      "metadata": {
        "id": "i021y_KHcJ3c"
      },
      "outputs": [],
      "source": []
    },
    {
      "cell_type": "markdown",
      "source": [
        "# Introduction to numpy\n",
        "<img >\n",
        "> Add blockquote\n",
        "\n",
        "\n",
        "standard library for Numerical Data in python(matrix and vectors)and forms the underlying foundation for libraries like Pandas and Matplotlib.\n",
        "\n",
        "### Numpy Arrays\n",
        "This is the main data structure in numpy\n",
        "Single Fixed container with the followng properties:\n",
        "   1. Single Data type\n",
        "   2. Can be modified but size cannot change\n",
        "   3. they can be one dimension or multi-dimension\n",
        "\n"
      ],
      "metadata": {
        "id": "rEBx3OnJnHAe"
      }
    },
    {
      "cell_type": "code",
      "source": [
        "from google.colab import drive\n",
        "drive.mount('/content/drive')"
      ],
      "metadata": {
        "id": "bGOFayPVcpWf"
      },
      "execution_count": null,
      "outputs": []
    },
    {
      "cell_type": "code",
      "source": [
        "import numpy as np"
      ],
      "metadata": {
        "id": "g1QbT72zoyHw"
      },
      "execution_count": null,
      "outputs": []
    },
    {
      "cell_type": "markdown",
      "source": [
        "converting python list to a numpy array"
      ],
      "metadata": {
        "id": "Tq2VxwAqpImy"
      }
    },
    {
      "cell_type": "code",
      "source": [
        "sales=[0,5,155,0,518,0,1827,616,317,325]\n",
        "sales=np.array(sales)\n",
        "sales\n",
        "\n",
        "#print(type(sales))"
      ],
      "metadata": {
        "colab": {
          "base_uri": "https://localhost:8080/"
        },
        "id": "a1lbpFsnpN4r",
        "outputId": "6e2d0ffe-8e06-4838-ff83-f78f1a41772a"
      },
      "execution_count": null,
      "outputs": [
        {
          "output_type": "execute_result",
          "data": {
            "text/plain": [
              "array([   0,    5,  155,    0,  518,    0, 1827,  616,  317,  325])"
            ]
          },
          "metadata": {},
          "execution_count": 2
        }
      ]
    },
    {
      "cell_type": "code",
      "source": [],
      "metadata": {
        "id": "n3X42gchhqoG"
      },
      "execution_count": null,
      "outputs": []
    },
    {
      "cell_type": "markdown",
      "source": [],
      "metadata": {
        "id": "F9JIe8sCqZb_"
      }
    },
    {
      "cell_type": "code",
      "source": [
        "sales_as_numpy_array=np.array(sales)\n",
        "sales_as_numpy_array"
      ],
      "metadata": {
        "colab": {
          "base_uri": "https://localhost:8080/"
        },
        "id": "qruBWQU5pvuu",
        "outputId": "863cf850-7fed-4d04-f8a0-4dd164249db5"
      },
      "execution_count": null,
      "outputs": [
        {
          "output_type": "execute_result",
          "data": {
            "text/plain": [
              "array([   0,    5,  155,    0,  518,    0, 1827,  616,  317,  325])"
            ]
          },
          "metadata": {},
          "execution_count": 3
        }
      ]
    },
    {
      "cell_type": "markdown",
      "source": [
        "Numpy Array Properties"
      ],
      "metadata": {
        "id": "tk6Uwnkbqcc7"
      }
    },
    {
      "cell_type": "code",
      "source": [
        "# ndim: number of dimensions\n",
        "# shape: size of array in each dimension\n",
        "# size: the total number of elements\n",
        "# dtype: the data type of the elements\n",
        "print(f\"Ndim:{sales_as_numpy_array.ndim}\")\n",
        "print(f\"Shape:{sales_as_numpy_array.shape}\")\n",
        "print(f\"Size:{sales_as_numpy_array.size}\")\n",
        "print(f\"Dtype:{sales_as_numpy_array.dtype}\")\n",
        "# you can use it without f\" \"\n",
        "# print(sales_as_numpy_array.ndim)"
      ],
      "metadata": {
        "colab": {
          "base_uri": "https://localhost:8080/"
        },
        "id": "PvptlgS4qhKI",
        "outputId": "61634b52-318d-4608-b79e-d682f9fcf307"
      },
      "execution_count": null,
      "outputs": [
        {
          "output_type": "stream",
          "name": "stdout",
          "text": [
            "Ndim:1\n",
            "Shape:(10,)\n",
            "Size:10\n",
            "Dtype:int64\n"
          ]
        }
      ]
    },
    {
      "cell_type": "code",
      "source": [
        "sales2=[[0,5,155,0,518],[0,18,27,616,317]]\n",
        "sales2_as_numpy_array=np.array(sales2)\n",
        "sales2_as_numpy_array"
      ],
      "metadata": {
        "id": "l_Cvv-sBsBly",
        "colab": {
          "base_uri": "https://localhost:8080/"
        },
        "outputId": "7d6b8a88-ff1c-47f3-94ef-121613360bb8"
      },
      "execution_count": null,
      "outputs": [
        {
          "output_type": "execute_result",
          "data": {
            "text/plain": [
              "array([[  0,   5, 155,   0, 518],\n",
              "       [  0,  18,  27, 616, 317]])"
            ]
          },
          "metadata": {},
          "execution_count": 5
        }
      ]
    },
    {
      "cell_type": "markdown",
      "source": [],
      "metadata": {
        "id": "tcUi7HpKtn7b"
      }
    },
    {
      "cell_type": "code",
      "source": [
        "print(f\"Ndim:{sales2_as_numpy_array.ndim}\")\n",
        "print(f\"Shape:{sales2_as_numpy_array.shape}\")\n",
        "print(f\"Size:{sales2_as_numpy_array.size}\")\n",
        "print(f\"Dtype:{sales2_as_numpy_array.dtype}\")"
      ],
      "metadata": {
        "colab": {
          "base_uri": "https://localhost:8080/"
        },
        "id": "EkUXbAZqtbiK",
        "outputId": "10c59813-2d59-41ed-b9b6-155db376f670"
      },
      "execution_count": null,
      "outputs": [
        {
          "output_type": "stream",
          "name": "stdout",
          "text": [
            "Ndim:2\n",
            "Shape:(2, 5)\n",
            "Size:10\n",
            "Dtype:int64\n"
          ]
        }
      ]
    },
    {
      "cell_type": "markdown",
      "source": [
        "Array Operations"
      ],
      "metadata": {
        "id": "5lH_oVNdtpW1"
      }
    },
    {
      "cell_type": "code",
      "source": [
        "sales2_as_numpy_array"
      ],
      "metadata": {
        "colab": {
          "base_uri": "https://localhost:8080/"
        },
        "id": "Zc8-s776ttPq",
        "outputId": "e13b53a9-7a9d-4d2f-d312-6d864c2432b3"
      },
      "execution_count": null,
      "outputs": [
        {
          "output_type": "execute_result",
          "data": {
            "text/plain": [
              "array([[  0,   5, 155,   0, 518],\n",
              "       [  0,  18,  27, 616, 317]])"
            ]
          },
          "metadata": {},
          "execution_count": 7
        }
      ]
    },
    {
      "cell_type": "code",
      "source": [
        "#1. Adding a scalar(single value)\n",
        "sales2_as_numpy_array+2"
      ],
      "metadata": {
        "colab": {
          "base_uri": "https://localhost:8080/"
        },
        "id": "1r_dI2wFuEjf",
        "outputId": "43bf7f1d-a0d7-4620-8fd1-68d24e449764"
      },
      "execution_count": null,
      "outputs": [
        {
          "output_type": "execute_result",
          "data": {
            "text/plain": [
              "array([[  2,   7, 157,   2, 520],\n",
              "       [  2,  20,  29, 618, 319]])"
            ]
          },
          "metadata": {},
          "execution_count": 8
        }
      ]
    },
    {
      "cell_type": "code",
      "source": [
        "# 2.Accessing a Multi-Dimension Array\n",
        "# [rows, columns]\n",
        "sales2_as_numpy_array[0:2,0:5]"
      ],
      "metadata": {
        "colab": {
          "base_uri": "https://localhost:8080/"
        },
        "id": "N1p2OsTdumgI",
        "outputId": "43026cbc-4a42-4360-8229-1c107e533799"
      },
      "execution_count": null,
      "outputs": [
        {
          "output_type": "execute_result",
          "data": {
            "text/plain": [
              "array([[  0,   5, 155,   0, 518],\n",
              "       [  0,  18,  27, 616, 317]])"
            ]
          },
          "metadata": {},
          "execution_count": 9
        }
      ]
    },
    {
      "cell_type": "code",
      "source": [
        "# All the records, first three columns\n",
        "sales2_as_numpy_array[:,0:3]"
      ],
      "metadata": {
        "colab": {
          "base_uri": "https://localhost:8080/"
        },
        "id": "pHh2cGgLvpEh",
        "outputId": "3b251a32-6e9c-4f36-eb41-9f1cc261084d"
      },
      "execution_count": null,
      "outputs": [
        {
          "output_type": "execute_result",
          "data": {
            "text/plain": [
              "array([[  0,   5, 155],\n",
              "       [  0,  18,  27]])"
            ]
          },
          "metadata": {},
          "execution_count": 10
        }
      ]
    },
    {
      "cell_type": "code",
      "source": [
        "#3. filtering Arrays\n",
        "# access where sales is not equal to zero\n",
        "sales2_as_numpy_array !=0\n",
        "# syntax:array[condition]\n",
        "sales2_as_numpy_array[sales2_as_numpy_array!=0]"
      ],
      "metadata": {
        "colab": {
          "base_uri": "https://localhost:8080/"
        },
        "id": "bYeWwdz8wRgD",
        "outputId": "a24ae8c1-b089-47f3-e19f-3fe3d76d4d22"
      },
      "execution_count": null,
      "outputs": [
        {
          "output_type": "execute_result",
          "data": {
            "text/plain": [
              "array([  5, 155, 518,  18,  27, 616, 317])"
            ]
          },
          "metadata": {},
          "execution_count": 11
        }
      ]
    },
    {
      "cell_type": "code",
      "source": [
        "# Sales equal to 616 or sales less than 100\n",
        "(sales2_as_numpy_array==616) | (sales2_as_numpy_array<100)\n",
        "# syntax:array[condition]\n",
        "sales2_as_numpy_array[(sales2_as_numpy_array==616) | (sales2_as_numpy_array<100)]\n"
      ],
      "metadata": {
        "colab": {
          "base_uri": "https://localhost:8080/"
        },
        "id": "VbksUnwex0Qu",
        "outputId": "d843f67e-6d38-4416-94ef-2daaabfb56e6"
      },
      "execution_count": null,
      "outputs": [
        {
          "output_type": "execute_result",
          "data": {
            "text/plain": [
              "array([  0,   5,   0,   0,  18,  27, 616])"
            ]
          },
          "metadata": {},
          "execution_count": 12
        }
      ]
    },
    {
      "cell_type": "code",
      "source": [
        "# sales more than 100 and sales less than 500\n",
        "(sales2_as_numpy_array>100) & (sales2_as_numpy_array<500)\n",
        "sales2_as_numpy_array[(sales2_as_numpy_array>100) & (sales2_as_numpy_array<500)]\n",
        "# or\n",
        "condition=(sales2_as_numpy_array>100) & (sales2_as_numpy_array<500)\n",
        "sales2_as_numpy_array[condition]"
      ],
      "metadata": {
        "colab": {
          "base_uri": "https://localhost:8080/"
        },
        "id": "fDdiVWLZysM1",
        "outputId": "95bdd7d5-885f-4bb9-88b7-7e4b815e1df9"
      },
      "execution_count": 29,
      "outputs": [
        {
          "output_type": "execute_result",
          "data": {
            "text/plain": [
              "array([155, 317])"
            ]
          },
          "metadata": {},
          "execution_count": 29
        }
      ]
    },
    {
      "cell_type": "code",
      "source": [
        "# List Comprehension\n",
        "list_5=[1,2,3,4,5]\n",
        "print(type(list_5))"
      ],
      "metadata": {
        "colab": {
          "base_uri": "https://localhost:8080/"
        },
        "id": "GHE_av5khu2Q",
        "outputId": "8ff4905d-a21e-4844-91cd-701e31ef4a1e"
      },
      "execution_count": null,
      "outputs": [
        {
          "output_type": "stream",
          "name": "stdout",
          "text": [
            "<class 'list'>\n"
          ]
        }
      ]
    },
    {
      "cell_type": "code",
      "source": [
        "list_10=[x for x in range(10)]\n",
        "print(list_10)"
      ],
      "metadata": {
        "colab": {
          "base_uri": "https://localhost:8080/"
        },
        "id": "VAtA3aE4iOOg",
        "outputId": "8812b911-0abf-46d3-bf92-5d3bc52e1f90"
      },
      "execution_count": null,
      "outputs": [
        {
          "output_type": "stream",
          "name": "stdout",
          "text": [
            "[0, 1, 2, 3, 4, 5, 6, 7, 8, 9]\n"
          ]
        }
      ]
    },
    {
      "cell_type": "code",
      "source": [
        "list_10_even=[x*2 for x in range(11)]\n",
        "print(list_10_even)"
      ],
      "metadata": {
        "colab": {
          "base_uri": "https://localhost:8080/"
        },
        "id": "nhcrh_PViw3V",
        "outputId": "1d7bebd5-bc80-45d6-9374-9b811bef56d6"
      },
      "execution_count": null,
      "outputs": [
        {
          "output_type": "stream",
          "name": "stdout",
          "text": [
            "[0, 2, 4, 6, 8, 10, 12, 14, 16, 18, 20]\n"
          ]
        }
      ]
    },
    {
      "cell_type": "code",
      "source": [
        "# Using List Comprehension Create List of the 50 multiple of 5 e.g 0, 5,10\n",
        "list_of_the_50_multiple=[x*5 for x in range(11)]\n",
        "print(list_of_the_50_multiple)"
      ],
      "metadata": {
        "colab": {
          "base_uri": "https://localhost:8080/"
        },
        "id": "PIR8WbfFjVcW",
        "outputId": "d69fbaef-099d-4446-cc6e-5c9a351aa880"
      },
      "execution_count": null,
      "outputs": [
        {
          "output_type": "stream",
          "name": "stdout",
          "text": [
            "[0, 5, 10, 15, 20, 25, 30, 35, 40, 45, 50]\n"
          ]
        }
      ]
    },
    {
      "cell_type": "code",
      "source": [
        "# Array Creation\n",
        "# np.zeros()\n",
        "# np.ones()\n",
        "# np.arange\n",
        "# np.linspace\n",
        "# np.array.reshape\n",
        "np.zeros(10)"
      ],
      "metadata": {
        "colab": {
          "base_uri": "https://localhost:8080/"
        },
        "id": "zZJ0n9hglDrb",
        "outputId": "86b4d940-5658-4624-87ce-9461bba17019"
      },
      "execution_count": null,
      "outputs": [
        {
          "output_type": "execute_result",
          "data": {
            "text/plain": [
              "array([0., 0., 0., 0., 0., 0., 0., 0., 0., 0.])"
            ]
          },
          "metadata": {},
          "execution_count": 18
        }
      ]
    },
    {
      "cell_type": "code",
      "source": [
        "np.arange(2,10,2)"
      ],
      "metadata": {
        "colab": {
          "base_uri": "https://localhost:8080/"
        },
        "id": "I136aK2slltm",
        "outputId": "f02ea2b6-da0d-4a2a-a837-5448c3f9ca06"
      },
      "execution_count": null,
      "outputs": [
        {
          "output_type": "execute_result",
          "data": {
            "text/plain": [
              "array([2, 4, 6, 8])"
            ]
          },
          "metadata": {},
          "execution_count": 19
        }
      ]
    },
    {
      "cell_type": "code",
      "source": [
        "np.arange(2,13,2).reshape(2,3)"
      ],
      "metadata": {
        "colab": {
          "base_uri": "https://localhost:8080/"
        },
        "id": "lYO66BqBBtSX",
        "outputId": "a4d2be94-3d0d-4e3a-b516-a44b4536c08f"
      },
      "execution_count": null,
      "outputs": [
        {
          "output_type": "execute_result",
          "data": {
            "text/plain": [
              "array([[ 2,  4,  6],\n",
              "       [ 8, 10, 12]])"
            ]
          },
          "metadata": {},
          "execution_count": 20
        }
      ]
    },
    {
      "cell_type": "code",
      "source": [
        "from numpy.random import default_rng\n",
        "rand=default_rng(123)\n",
        "rand.random((10))"
      ],
      "metadata": {
        "colab": {
          "base_uri": "https://localhost:8080/"
        },
        "id": "CTCJVQQEEc6U",
        "outputId": "eab2cf9e-b72b-4dee-c267-1edcc29a98ca"
      },
      "execution_count": null,
      "outputs": [
        {
          "output_type": "execute_result",
          "data": {
            "text/plain": [
              "array([0.68235186, 0.05382102, 0.22035987, 0.18437181, 0.1759059 ,\n",
              "       0.81209451, 0.923345  , 0.2765744 , 0.81975456, 0.88989269])"
            ]
          },
          "metadata": {},
          "execution_count": 21
        }
      ]
    },
    {
      "cell_type": "code",
      "source": [
        "from numpy.random import default_rng\n",
        "rand=default_rng(123)\n",
        "numbers=rand.random((3,2))\n",
        "numbers"
      ],
      "metadata": {
        "colab": {
          "base_uri": "https://localhost:8080/"
        },
        "id": "Vh3WtEMVE8MW",
        "outputId": "7d0dacec-6edd-4277-fd42-f9f6216918b9"
      },
      "execution_count": null,
      "outputs": [
        {
          "output_type": "execute_result",
          "data": {
            "text/plain": [
              "array([[0.68235186, 0.05382102],\n",
              "       [0.22035987, 0.18437181],\n",
              "       [0.1759059 , 0.81209451]])"
            ]
          },
          "metadata": {},
          "execution_count": 22
        }
      ]
    },
    {
      "cell_type": "code",
      "source": [
        "score=default_rng(123)\n",
        "score=score.normal(loc=80,scale=10,size=5)\n",
        "score"
      ],
      "metadata": {
        "colab": {
          "base_uri": "https://localhost:8080/"
        },
        "id": "VNeiSVRHFx9S",
        "outputId": "c3492815-3d42-462c-d163-f19645aeae8a"
      },
      "execution_count": null,
      "outputs": [
        {
          "output_type": "execute_result",
          "data": {
            "text/plain": [
              "array([70.1087865 , 76.32213349, 92.87925261, 81.93974419, 89.202309  ])"
            ]
          },
          "metadata": {},
          "execution_count": 23
        }
      ]
    },
    {
      "cell_type": "markdown",
      "source": [],
      "metadata": {
        "id": "CkNh5WPjbcKK"
      }
    },
    {
      "cell_type": "code",
      "source": [
        "# Indexing/slicing numpy arrays\n",
        "counties=[\"nairobi\",\"kisumu\",\"kericho\",\"nakuru\",\"kilifi\",\"kiambu\",\"laikipia\",\"nyeri\"]\n",
        "counties_array=np.array(counties).reshape(2,4)\n",
        "counties_array"
      ],
      "metadata": {
        "colab": {
          "base_uri": "https://localhost:8080/"
        },
        "id": "G2kfzBEQmpuG",
        "outputId": "cf25a76f-1fea-4cf6-88f5-2e98100bae8b"
      },
      "execution_count": 24,
      "outputs": [
        {
          "output_type": "execute_result",
          "data": {
            "text/plain": [
              "array([['nairobi', 'kisumu', 'kericho', 'nakuru'],\n",
              "       ['kilifi', 'kiambu', 'laikipia', 'nyeri']], dtype='<U8')"
            ]
          },
          "metadata": {},
          "execution_count": 24
        }
      ]
    },
    {
      "cell_type": "code",
      "source": [
        "kilifi_county=counties_array[1,0]\n",
        "kilifi_county"
      ],
      "metadata": {
        "colab": {
          "base_uri": "https://localhost:8080/",
          "height": 35
        },
        "id": "Hg6cibDhn_qu",
        "outputId": "61050cad-3332-464a-a6ac-8350b29a163c"
      },
      "execution_count": 26,
      "outputs": [
        {
          "output_type": "execute_result",
          "data": {
            "text/plain": [
              "'kilifi'"
            ],
            "application/vnd.google.colaboratory.intrinsic+json": {
              "type": "string"
            }
          },
          "metadata": {},
          "execution_count": 26
        }
      ]
    },
    {
      "cell_type": "code",
      "source": [
        "# access for all the records the first two colums\n",
        "counties_array.shape\n",
        "counties_array[:,:2]"
      ],
      "metadata": {
        "colab": {
          "base_uri": "https://localhost:8080/"
        },
        "id": "gER9j3wxoYv1",
        "outputId": "7983088b-51fc-43f6-9699-366994325cc6"
      },
      "execution_count": 28,
      "outputs": [
        {
          "output_type": "execute_result",
          "data": {
            "text/plain": [
              "array([['nairobi', 'kisumu'],\n",
              "       ['kilifi', 'kiambu']], dtype='<U8')"
            ]
          },
          "metadata": {},
          "execution_count": 28
        }
      ]
    },
    {
      "cell_type": "code",
      "source": [
        "#filtering using Where condition(ifblock,elseblock) condition\n",
        "sales_inventory=np.array([12,18,102,0,0])\n",
        "sales_inventory"
      ],
      "metadata": {
        "colab": {
          "base_uri": "https://localhost:8080/"
        },
        "id": "ud7BLoVIpFXl",
        "outputId": "39cf6535-e002-4b45-dad8-30e4fe7a20ce"
      },
      "execution_count": 30,
      "outputs": [
        {
          "output_type": "execute_result",
          "data": {
            "text/plain": [
              "array([ 12,  18, 102,   0,   0])"
            ]
          },
          "metadata": {},
          "execution_count": 30
        }
      ]
    },
    {
      "cell_type": "code",
      "source": [
        "# where\n",
        "np.where(sales_inventory<0,\"Out of Stock\",\"In Stock\")"
      ],
      "metadata": {
        "colab": {
          "base_uri": "https://localhost:8080/"
        },
        "id": "jWrsITRGthZi",
        "outputId": "e55fcba7-d045-4517-f66a-8a8845b55371"
      },
      "execution_count": 31,
      "outputs": [
        {
          "output_type": "execute_result",
          "data": {
            "text/plain": [
              "array(['In Stock', 'In Stock', 'In Stock', 'In Stock', 'In Stock'],\n",
              "      dtype='<U12')"
            ]
          },
          "metadata": {},
          "execution_count": 31
        }
      ]
    },
    {
      "cell_type": "code",
      "source": [
        "# products array\n",
        "products_array=np.array([\"egg\",\"milk\",\"bread\",\"beans\",\"rice\"])\n",
        "products_array"
      ],
      "metadata": {
        "colab": {
          "base_uri": "https://localhost:8080/"
        },
        "id": "6ibhQdfLt7kV",
        "outputId": "ed04754d-f144-4a3f-aae2-e7c405afaa7a"
      },
      "execution_count": 32,
      "outputs": [
        {
          "output_type": "execute_result",
          "data": {
            "text/plain": [
              "array(['egg', 'milk', 'bread', 'beans', 'rice'], dtype='<U5')"
            ]
          },
          "metadata": {},
          "execution_count": 32
        }
      ]
    },
    {
      "cell_type": "code",
      "source": [
        "np.where(sales_inventory<=0,\"Out of Stock\",products_array)"
      ],
      "metadata": {
        "colab": {
          "base_uri": "https://localhost:8080/"
        },
        "id": "Xc4GghYXuTKw",
        "outputId": "f31796fb-f4d1-4506-e36e-f60f699b03e4"
      },
      "execution_count": 33,
      "outputs": [
        {
          "output_type": "execute_result",
          "data": {
            "text/plain": [
              "array(['egg', 'milk', 'bread', 'Out of Stock', 'Out of Stock'],\n",
              "      dtype='<U12')"
            ]
          },
          "metadata": {},
          "execution_count": 33
        }
      ]
    },
    {
      "cell_type": "code",
      "source": [
        "# Array aggregation methods\n",
        "# 1.sum() mean() count() median() std()var()max()min()\n",
        "sales_as_numpy_array.sum()"
      ],
      "metadata": {
        "colab": {
          "base_uri": "https://localhost:8080/"
        },
        "id": "QmGudCInu3eS",
        "outputId": "d70a5156-dc28-4502-c785-f27e40cf9064"
      },
      "execution_count": 34,
      "outputs": [
        {
          "output_type": "execute_result",
          "data": {
            "text/plain": [
              "3763"
            ]
          },
          "metadata": {},
          "execution_count": 34
        }
      ]
    },
    {
      "cell_type": "code",
      "source": [
        "sales_as_numpy_array.min()"
      ],
      "metadata": {
        "colab": {
          "base_uri": "https://localhost:8080/"
        },
        "id": "4JetFXaBvrV7",
        "outputId": "7b4b18c7-1fa5-420c-843f-e00c7c5b07a3"
      },
      "execution_count": 36,
      "outputs": [
        {
          "output_type": "execute_result",
          "data": {
            "text/plain": [
              "0"
            ]
          },
          "metadata": {},
          "execution_count": 36
        }
      ]
    },
    {
      "cell_type": "code",
      "source": [
        "sales_as_numpy_array.max()"
      ],
      "metadata": {
        "colab": {
          "base_uri": "https://localhost:8080/"
        },
        "id": "GzhfEWk_v-FP",
        "outputId": "90a92714-b122-40a4-979b-71a75f9488c1"
      },
      "execution_count": 37,
      "outputs": [
        {
          "output_type": "execute_result",
          "data": {
            "text/plain": [
              "1827"
            ]
          },
          "metadata": {},
          "execution_count": 37
        }
      ]
    },
    {
      "cell_type": "code",
      "source": [
        "np.percentile(sales_as_numpy_array,[25,75])"
      ],
      "metadata": {
        "colab": {
          "base_uri": "https://localhost:8080/"
        },
        "id": "Qp-KEY6JwTaa",
        "outputId": "05a34a11-3977-46f3-8575-3d47a8ecbeb4"
      },
      "execution_count": 39,
      "outputs": [
        {
          "output_type": "execute_result",
          "data": {
            "text/plain": [
              "array([  1.25, 469.75])"
            ]
          },
          "metadata": {},
          "execution_count": 39
        }
      ]
    }
  ]
}